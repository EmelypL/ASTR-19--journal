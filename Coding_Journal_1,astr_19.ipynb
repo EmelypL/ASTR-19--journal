{
  "nbformat": 4,
  "nbformat_minor": 0,
  "metadata": {
    "colab": {
      "name": "Coding Journal#1,astr-19",
      "provenance": []
    },
    "kernelspec": {
      "name": "python3",
      "display_name": "Python 3"
    },
    "language_info": {
      "name": "python"
    }
  },
  "cells": [
    {
      "cell_type": "code",
      "execution_count": 1,
      "metadata": {
        "colab": {
          "base_uri": "https://localhost:8080/"
        },
        "id": "P-OFT-NcOd_-",
        "outputId": "18e868f6-763b-479c-8e14-4392127efcb4"
      },
      "outputs": [
        {
          "output_type": "stream",
          "name": "stdout",
          "text": [
            "Emely Pineda\n",
            "she/they\n",
            "my favorite movie right now is Everything Everywhere All At Once\n",
            "my favorite food are probably wings, specifically in buffalo sauce\n"
          ]
        }
      ],
      "source": [
        "def get_name():\n",
        "  print(\"Emely Pineda\")\n",
        "  print(\"she/they\")\n",
        "  print(\"my favorite movie right now is Everything Everywhere All At Once\")\n",
        "  print(\"my favorite food are probably wings, specifically in buffalo sauce\")\n",
        "\n",
        "\n",
        "def main():\n",
        "  get_name()\n",
        "\n",
        "if __name__ ==\"__main__\":\n",
        "  main()\n"
      ]
    }
  ]
}